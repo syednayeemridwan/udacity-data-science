{
 "cells": [
  {
   "cell_type": "markdown",
   "metadata": {},
   "source": [
    "# Pre-requisites"
   ]
  },
  {
   "cell_type": "markdown",
   "metadata": {},
   "source": [
    "- Python for Data Analysis\n",
    "- SQL\n",
    "- Data Visualization\n",
    "- Command Line Essentials\n",
    "- Git & Github\n",
    "- Linear Algebra"
   ]
  }
 ],
 "metadata": {
  "language_info": {
   "name": "python"
  },
  "orig_nbformat": 4
 },
 "nbformat": 4,
 "nbformat_minor": 2
}
